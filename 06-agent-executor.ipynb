{
  "cells": [
    {
      "cell_type": "markdown",
      "metadata": {
        "id": "l-WuDI4tKhRz"
      },
      "source": [
        "#### LangChain Essentials Course"
      ]
    },
    {
      "cell_type": "markdown",
      "metadata": {
        "id": "M_bfadwMKhR0"
      },
      "source": [
        "# LangChain Agent Executor"
      ]
    },
    {
      "cell_type": "markdown",
      "metadata": {
        "id": "lMGT85HYKhR0"
      },
      "source": [
        "In this chapter, we will continue from the [introduction to agents](https://aurelio.ai/learn/langchain-agents-intro) and dive deeper into agents. Learning how to build our custom agent execution loop for v0.3 of LangChain."
      ]
    },
    {
      "cell_type": "code",
      "execution_count": 1,
      "metadata": {
        "colab": {
          "base_uri": "https://localhost:8080/"
        },
        "id": "XWpBTKoHKj9o",
        "outputId": "35b21853-913d-4077-c131-3e9e1d98bfb8"
      },
      "outputs": [
        {
          "name": "stdout",
          "output_type": "stream",
          "text": [
            "\u001b[?25l   \u001b[90m━━━━━━━━━━━━━━━━━━━━━━━━━━━━━━━━━━━━━━━━\u001b[0m \u001b[32m0.0/412.7 kB\u001b[0m \u001b[31m?\u001b[0m eta \u001b[36m-:--:--\u001b[0m\r\u001b[2K   \u001b[91m━━━━━━━━━━━━━━━━━━━━━━━━━━━━━━━━━━━━━━━\u001b[0m\u001b[91m╸\u001b[0m \u001b[32m409.6/412.7 kB\u001b[0m \u001b[31m35.6 MB/s\u001b[0m eta \u001b[36m0:00:01\u001b[0m\r\u001b[2K   \u001b[90m━━━━━━━━━━━━━━━━━━━━━━━━━━━━━━━━━━━━━━━━\u001b[0m \u001b[32m412.7/412.7 kB\u001b[0m \u001b[31m8.7 MB/s\u001b[0m eta \u001b[36m0:00:00\u001b[0m\n",
            "\u001b[?25h\u001b[?25l   \u001b[90m━━━━━━━━━━━━━━━━━━━━━━━━━━━━━━━━━━━━━━━━\u001b[0m \u001b[32m0.0/54.5 kB\u001b[0m \u001b[31m?\u001b[0m eta \u001b[36m-:--:--\u001b[0m\r\u001b[2K   \u001b[90m━━━━━━━━━━━━━━━━━━━━━━━━━━━━━━━━━━━━━━━━\u001b[0m \u001b[32m54.5/54.5 kB\u001b[0m \u001b[31m2.8 MB/s\u001b[0m eta \u001b[36m0:00:00\u001b[0m\n",
            "\u001b[2K   \u001b[90m━━━━━━━━━━━━━━━━━━━━━━━━━━━━━━━━━━━━━━━━\u001b[0m \u001b[32m2.5/2.5 MB\u001b[0m \u001b[31m19.8 MB/s\u001b[0m eta \u001b[36m0:00:00\u001b[0m\n",
            "\u001b[2K   \u001b[90m━━━━━━━━━━━━━━━━━━━━━━━━━━━━━━━━━━━━━━━━\u001b[0m \u001b[32m333.3/333.3 kB\u001b[0m \u001b[31m19.7 MB/s\u001b[0m eta \u001b[36m0:00:00\u001b[0m\n",
            "\u001b[2K   \u001b[90m━━━━━━━━━━━━━━━━━━━━━━━━━━━━━━━━━━━━━━━━\u001b[0m \u001b[32m1.2/1.2 MB\u001b[0m \u001b[31m32.5 MB/s\u001b[0m eta \u001b[36m0:00:00\u001b[0m\n",
            "\u001b[2K   \u001b[90m━━━━━━━━━━━━━━━━━━━━━━━━━━━━━━━━━━━━━━━━\u001b[0m \u001b[32m50.8/50.8 kB\u001b[0m \u001b[31m2.7 MB/s\u001b[0m eta \u001b[36m0:00:00\u001b[0m\n",
            "\u001b[?25h"
          ]
        }
      ],
      "source": [
        "!pip install -qU \\\n",
        "  langchain-core==0.3.33 \\\n",
        "  langchain-openai==0.3.3 \\\n",
        "  langchain-community==0.3.16 \\\n",
        "  langsmith==0.3.4"
      ]
    },
    {
      "cell_type": "markdown",
      "metadata": {
        "id": "cJ6nGkFXKhR0"
      },
      "source": [
        "---\n",
        "\n",
        "> ⚠️ We will be using OpenAI for this example allowing us to run everything via API. If you would like to use Ollama instead, check out the [Ollama LangChain Course](https://github.com/aurelio-labs/langchain-course/tree/main/notebooks/ollama).\n",
        "\n",
        "---"
      ]
    },
    {
      "cell_type": "markdown",
      "metadata": {
        "id": "gPxtmAUnKhR0"
      },
      "source": [
        "---\n",
        "\n",
        "> ⚠️ If using LangSmith, add your API key below:"
      ]
    },
    {
      "cell_type": "code",
      "execution_count": 2,
      "metadata": {
        "colab": {
          "base_uri": "https://localhost:8080/"
        },
        "id": "vu3UjJZcKhR1",
        "outputId": "f057668d-a3cc-4d21-dcf3-3b68f85e109e"
      },
      "outputs": [
        {
          "name": "stdout",
          "output_type": "stream",
          "text": [
            "Enter LangSmith API Key: ··········\n"
          ]
        }
      ],
      "source": [
        "import os\n",
        "from getpass import getpass\n",
        "\n",
        "os.environ[\"LANGCHAIN_API_KEY\"] = os.getenv(\"LANGCHAIN_API_KEY\") or \\\n",
        "    getpass(\"Enter LangSmith API Key: \")\n",
        "\n",
        "os.environ[\"LANGCHAIN_TRACING_V2\"] = \"true\"\n",
        "os.environ[\"LANGCHAIN_ENDPOINT\"] = \"https://api.smith.langchain.com\"\n",
        "os.environ[\"LANGCHAIN_PROJECT\"] = \"aurelioai-langchain-course-agent-executor-openai\""
      ]
    },
    {
      "cell_type": "markdown",
      "metadata": {
        "id": "MIWrsEZLKhR1"
      },
      "source": [
        "---"
      ]
    },
    {
      "cell_type": "markdown",
      "metadata": {
        "id": "4nN4iokHKhR1"
      },
      "source": [
        "## What is the Agent Executor?"
      ]
    },
    {
      "cell_type": "markdown",
      "metadata": {
        "id": "IgYiaDvQKhR1"
      },
      "source": [
        "When we talk about agents, a significant part of an \"agent\" is simple code logic,\n",
        "iteratively rerunning LLM calls and processing their output. The exact logic varies\n",
        "significantly, but one well-known example is the **ReAct** agent.\n",
        "\n",
        "![ReAct process](https://www.aurelio.ai/_next/image?url=%2Fimages%2Fposts%2Fai-agents%2Fai-agents-00.png&w=640&q=75)\n",
        "\n",
        "**Re**ason + **Act**ion (ReAct) agents use iterative _reasoning_ and _action_ steps to\n",
        "incorporate chain-of-thought and tool-use into their execution. During the _reasoning_\n",
        "step, the LLM generates the steps to take to answer the query. Next, the LLM generates\n",
        "the _action_ input, which our code logic parses into a tool call.\n",
        "\n",
        "![Agentic graph of ReAct](https://www.aurelio.ai/_next/image?url=%2Fimages%2Fposts%2Fai-agents%2Fai-agents-01.png&w=640&q=75)\n",
        "\n",
        "Following our action step, we get an observation from the tool call. Then, we feed the\n",
        "observation back into the agent executor logic for a final answer or further reasoning\n",
        "and action steps.\n",
        "\n",
        "The agent and agent executor we will be building will follow this pattern."
      ]
    },
    {
      "cell_type": "markdown",
      "metadata": {
        "id": "1y9epAuyKhR1"
      },
      "source": [
        "## Tools"
      ]
    },
    {
      "cell_type": "markdown",
      "metadata": {
        "id": "pNwxnS9qKhR1"
      },
      "source": [
        "As with the previous chapter, we will define a few tools to use within our agent."
      ]
    },
    {
      "cell_type": "code",
      "execution_count": 3,
      "metadata": {
        "id": "t0xbHzHqKhR2"
      },
      "outputs": [],
      "source": [
        "from langchain_core.tools import tool\n",
        "\n",
        "@tool\n",
        "def add(x: float, y: float) -> float:\n",
        "    \"\"\"Add 'x' and 'y'.\"\"\"\n",
        "    return x + y\n",
        "\n",
        "# Define the multiply tool\n",
        "@tool\n",
        "def multiply(x: float, y: float) -> float:\n",
        "    \"\"\"Multiply 'x' and 'y'.\"\"\"\n",
        "    return x * y\n",
        "\n",
        "# Define the exponentiate tool\n",
        "@tool\n",
        "def exponentiate(x: float, y: float) -> float:\n",
        "    \"\"\"Raise 'x' to the power of 'y'.\"\"\"\n",
        "    return x ** y\n",
        "\n",
        "@tool\n",
        "def subtract(x: float, y: float) -> float:\n",
        "    \"\"\"Subtract 'x' from 'y'.\"\"\"\n",
        "    return y - x"
      ]
    },
    {
      "cell_type": "markdown",
      "metadata": {
        "id": "dhlrt2JfKhR2"
      },
      "source": [
        "With the `@tool` decorator our function is turned into a `StructuredTool` object, which we can see below:"
      ]
    },
    {
      "cell_type": "code",
      "execution_count": 4,
      "metadata": {
        "colab": {
          "base_uri": "https://localhost:8080/"
        },
        "id": "iLGsdWrCKhR2",
        "outputId": "d4bd7429-6ecb-47f0-a49c-48b1cbcb720f"
      },
      "outputs": [
        {
          "data": {
            "text/plain": [
              "StructuredTool(name='add', description=\"Add 'x' and 'y'.\", args_schema=<class 'langchain_core.utils.pydantic.add'>, func=<function add at 0x7c2f00164ae0>)"
            ]
          },
          "execution_count": 4,
          "metadata": {},
          "output_type": "execute_result"
        }
      ],
      "source": [
        "add"
      ]
    },
    {
      "cell_type": "markdown",
      "metadata": {
        "id": "-JRtoCoQKhR2"
      },
      "source": [
        "We can see the tool name, description, and arg schema:"
      ]
    },
    {
      "cell_type": "code",
      "execution_count": 5,
      "metadata": {
        "colab": {
          "base_uri": "https://localhost:8080/"
        },
        "id": "tjbUg5JGKhR2",
        "outputId": "641842f5-a0c8-4d95-e6b2-39b9a36ad46e"
      },
      "outputs": [
        {
          "name": "stdout",
          "output_type": "stream",
          "text": [
            "add.name='add'\n",
            "add.description=\"Add 'x' and 'y'.\"\n"
          ]
        }
      ],
      "source": [
        "print(f\"{add.name=}\\n{add.description=}\")"
      ]
    },
    {
      "cell_type": "code",
      "execution_count": 6,
      "metadata": {
        "colab": {
          "base_uri": "https://localhost:8080/"
        },
        "id": "akWPmNfhKhR2",
        "outputId": "77f73d82-ac9d-4277-bbe4-9eaa451edc7a"
      },
      "outputs": [
        {
          "data": {
            "text/plain": [
              "{'description': \"Add 'x' and 'y'.\",\n",
              " 'properties': {'x': {'title': 'X', 'type': 'number'},\n",
              "  'y': {'title': 'Y', 'type': 'number'}},\n",
              " 'required': ['x', 'y'],\n",
              " 'title': 'add',\n",
              " 'type': 'object'}"
            ]
          },
          "execution_count": 6,
          "metadata": {},
          "output_type": "execute_result"
        }
      ],
      "source": [
        "add.args_schema.model_json_schema()"
      ]
    },
    {
      "cell_type": "markdown",
      "metadata": {
        "id": "INJu45q1KhR2"
      },
      "source": [
        "The `args_schema` is a pydantic model that is transformed into the JSON schema above and passed into our LLM, it is this that defines _how_ the tool is used for the LLM. We can see this with other tools:"
      ]
    },
    {
      "cell_type": "code",
      "execution_count": 7,
      "metadata": {
        "colab": {
          "base_uri": "https://localhost:8080/"
        },
        "id": "OYdKvlunKhR2",
        "outputId": "1e3535c7-8826-4881-a5ee-4139b2c5421e"
      },
      "outputs": [
        {
          "data": {
            "text/plain": [
              "{'description': \"Raise 'x' to the power of 'y'.\",\n",
              " 'properties': {'x': {'title': 'X', 'type': 'number'},\n",
              "  'y': {'title': 'Y', 'type': 'number'}},\n",
              " 'required': ['x', 'y'],\n",
              " 'title': 'exponentiate',\n",
              " 'type': 'object'}"
            ]
          },
          "execution_count": 7,
          "metadata": {},
          "output_type": "execute_result"
        }
      ],
      "source": [
        "exponentiate.args_schema.model_json_schema()"
      ]
    },
    {
      "cell_type": "markdown",
      "metadata": {
        "id": "WlqrsBLSKhR2"
      },
      "source": [
        "When invoking the tool, a JSON string output by the LLM will be parsed into JSON and then consumed as kwargs, similar to the below:"
      ]
    },
    {
      "cell_type": "code",
      "execution_count": 8,
      "metadata": {
        "colab": {
          "base_uri": "https://localhost:8080/"
        },
        "id": "7Qs-a16-KhR2",
        "outputId": "bc328e89-9cde-478c-ea24-e717ea150426"
      },
      "outputs": [
        {
          "data": {
            "text/plain": [
              "{'x': 5, 'y': 2}"
            ]
          },
          "execution_count": 8,
          "metadata": {},
          "output_type": "execute_result"
        }
      ],
      "source": [
        "import json\n",
        "\n",
        "llm_output_string = \"{\\\"x\\\": 5, \\\"y\\\": 2}\"  # this is the output from the LLM\n",
        "llm_output_dict = json.loads(llm_output_string)  # load as dictionary\n",
        "llm_output_dict"
      ]
    },
    {
      "cell_type": "markdown",
      "metadata": {
        "id": "VgwHOKetKhR2"
      },
      "source": [
        "This is then passed into the tool function as `kwargs` (keyword arguments) as indicated by the `**` operator - the `**` operator is used to unpack the dictionary into keyword arguments."
      ]
    },
    {
      "cell_type": "code",
      "execution_count": 9,
      "metadata": {
        "colab": {
          "base_uri": "https://localhost:8080/"
        },
        "id": "XIEsWEANKhR2",
        "outputId": "43e91937-0a25-4470-dc37-83138ce2bdc2"
      },
      "outputs": [
        {
          "data": {
            "text/plain": [
              "25"
            ]
          },
          "execution_count": 9,
          "metadata": {},
          "output_type": "execute_result"
        }
      ],
      "source": [
        "exponentiate.func(**llm_output_dict)"
      ]
    },
    {
      "cell_type": "markdown",
      "metadata": {
        "id": "leNf7-zuKhR3"
      },
      "source": [
        "This covers the basics of tools and how they work, let's move on to creating the agent itself."
      ]
    },
    {
      "cell_type": "markdown",
      "metadata": {
        "id": "zLzr9H4HKhR3"
      },
      "source": [
        "## Creating an Agent"
      ]
    },
    {
      "cell_type": "markdown",
      "metadata": {
        "id": "wshUd8OLKhR3"
      },
      "source": [
        "We will use **L**ang**C**hain **E**pression **L**anguage (LCEL) to construct the agent. We will cover LCEL more in the next chapter, but for now - all we need to know is that our agent will be constructed using syntax and components like so:\n",
        "\n",
        "\n",
        "```\n",
        "agent = (\n",
        "    <input parameters, including chat history and user query>\n",
        "    | <prompt>\n",
        "    | <LLM with tools>\n",
        ")\n",
        "```"
      ]
    },
    {
      "cell_type": "markdown",
      "metadata": {
        "id": "XcXrDNP5KhR3"
      },
      "source": [
        "We need this agent to remember previous interactions within the conversation. To do that, we will use the `ChatPromptTemplate` with a system message, a placeholder for our chat history, a placeholder for the user query, and finally a placeholder for the agent scratchpad.\n",
        "\n",
        "The agent scratchpad is where the agent writes its notes as it works through multiple internal thought and tool-use steps to produce a final output for the user. This scratchpad is a list of messages with alternating roles of `ai` (for the tool call) and `tool` (for the tool execution output). Both message types require a `tool_call_id` field which is used to link the respective AI and tool messages - this can be required when we many tool calls happening in parallel."
      ]
    },
    {
      "cell_type": "code",
      "execution_count": 10,
      "metadata": {
        "id": "deEyRB1qKhR3"
      },
      "outputs": [],
      "source": [
        "from langchain_core.prompts import ChatPromptTemplate, MessagesPlaceholder\n",
        "\n",
        "prompt = ChatPromptTemplate.from_messages([\n",
        "    (\"system\", (\n",
        "        \"You're a helpful assistant. When answering a user's question \"\n",
        "        \"you should first use one of the tools provided. After using a \"\n",
        "        \"tool the tool output will be provided in the \"\n",
        "        \"'scratchpad' below. If you have an answer in the \"\n",
        "        \"scratchpad you should not use any more tools and \"\n",
        "        \"instead answer directly to the user.\"\n",
        "    )),\n",
        "    MessagesPlaceholder(variable_name=\"chat_history\"),\n",
        "    (\"human\", \"{input}\"),\n",
        "    MessagesPlaceholder(variable_name=\"agent_scratchpad\"),\n",
        "])"
      ]
    },
    {
      "cell_type": "markdown",
      "metadata": {
        "id": "4qLBd6IKKhR3"
      },
      "source": [
        "Next, we must define our LLM, we will use the `gpt-4o-mini` model with a `temperature` of `0.0`."
      ]
    },
    {
      "cell_type": "code",
      "execution_count": 11,
      "metadata": {
        "colab": {
          "base_uri": "https://localhost:8080/"
        },
        "id": "taeBT2ppKhR3",
        "outputId": "8de4223b-5ee3-4aa6-a724-b41f591a927e"
      },
      "outputs": [
        {
          "name": "stdout",
          "output_type": "stream",
          "text": [
            "Enter your OpenAI API key: ··········\n"
          ]
        }
      ],
      "source": [
        "import os\n",
        "from getpass import getpass\n",
        "from langchain_openai import ChatOpenAI\n",
        "\n",
        "os.environ[\"OPENAI_API_KEY\"] = os.getenv(\"OPENAI_API_KEY\") \\\n",
        "    or getpass(\"Enter your OpenAI API key: \")\n",
        "\n",
        "llm = ChatOpenAI(\n",
        "    model_name=\"gpt-4o-mini\",\n",
        "    temperature=0.0,\n",
        ")"
      ]
    },
    {
      "cell_type": "markdown",
      "metadata": {
        "id": "9kIxpYSWKhR3"
      },
      "source": [
        "To add tools to our LLM, we will use the `bind_tools` method within the LCEL constructor, which will take our tools and add them to the LLM. We'll also include the `tool_choice=\"any\"` argument to `bind_tools`, which tells the LLM that it _MUST_ use a tool, ie it cannot provide a final answer directly (in therefore not using a tool):"
      ]
    },
    {
      "cell_type": "code",
      "execution_count": 12,
      "metadata": {
        "id": "yFWmJdoVKhR3"
      },
      "outputs": [],
      "source": [
        "from langchain_core.runnables.base import RunnableSerializable\n",
        "\n",
        "tools = [add, subtract, multiply, exponentiate]\n",
        "\n",
        "# define the agent runnable\n",
        "agent: RunnableSerializable = (\n",
        "    {\n",
        "        \"input\": lambda x: x[\"input\"],\n",
        "        \"chat_history\": lambda x: x[\"chat_history\"],\n",
        "        \"agent_scratchpad\": lambda x: x.get(\"agent_scratchpad\", [])\n",
        "    }\n",
        "    | prompt\n",
        "    | llm.bind_tools(tools, tool_choice=\"any\")\n",
        ")"
      ]
    },
    {
      "cell_type": "markdown",
      "metadata": {
        "id": "9xvYJGV2KhR3"
      },
      "source": [
        "We invoke the agent with the `invoke` method, passing in the input and chat history."
      ]
    },
    {
      "cell_type": "code",
      "execution_count": 13,
      "metadata": {
        "colab": {
          "base_uri": "https://localhost:8080/"
        },
        "id": "b0Wy32aKKhR4",
        "outputId": "b4356a31-81a3-4b55-df79-6fd5c095c356"
      },
      "outputs": [
        {
          "data": {
            "text/plain": [
              "AIMessage(content='', additional_kwargs={'tool_calls': [{'id': 'call_SPRcOwtqvcSRQdLaIx1U3ZBN', 'function': {'arguments': '{\"x\":10,\"y\":10}', 'name': 'add'}, 'type': 'function'}], 'refusal': None}, response_metadata={'token_usage': {'completion_tokens': 18, 'prompt_tokens': 197, 'total_tokens': 215, 'completion_tokens_details': {'accepted_prediction_tokens': 0, 'audio_tokens': 0, 'reasoning_tokens': 0, 'rejected_prediction_tokens': 0}, 'prompt_tokens_details': {'audio_tokens': 0, 'cached_tokens': 0}}, 'model_name': 'gpt-4o-mini-2024-07-18', 'system_fingerprint': 'fp_bd83329f63', 'finish_reason': 'tool_calls', 'logprobs': None}, id='run-47a97ee0-09e7-449b-8312-7e4cf524ae7d-0', tool_calls=[{'name': 'add', 'args': {'x': 10, 'y': 10}, 'id': 'call_SPRcOwtqvcSRQdLaIx1U3ZBN', 'type': 'tool_call'}], usage_metadata={'input_tokens': 197, 'output_tokens': 18, 'total_tokens': 215, 'input_token_details': {'audio': 0, 'cache_read': 0}, 'output_token_details': {'audio': 0, 'reasoning': 0}})"
            ]
          },
          "execution_count": 13,
          "metadata": {},
          "output_type": "execute_result"
        }
      ],
      "source": [
        "tool_call = agent.invoke({\"input\": \"What is 10 + 10\", \"chat_history\": []})\n",
        "tool_call"
      ]
    },
    {
      "cell_type": "markdown",
      "metadata": {
        "id": "fKLcAncRKhR4"
      },
      "source": [
        "Because we set `tool_choice=\"any\"` to force the tool output, the usual `content` field will be empty as that field is used for natural language output, ie the _final answer_ of the LLM. To find our tool output, we need to look at the `tool_calls` field:"
      ]
    },
    {
      "cell_type": "code",
      "execution_count": 14,
      "metadata": {
        "colab": {
          "base_uri": "https://localhost:8080/"
        },
        "id": "vnwf4bZyKhR4",
        "outputId": "c6dc24fa-d5d3-419d-d0a1-d4904949e6b2"
      },
      "outputs": [
        {
          "data": {
            "text/plain": [
              "[{'name': 'add',\n",
              "  'args': {'x': 10, 'y': 10},\n",
              "  'id': 'call_SPRcOwtqvcSRQdLaIx1U3ZBN',\n",
              "  'type': 'tool_call'}]"
            ]
          },
          "execution_count": 14,
          "metadata": {},
          "output_type": "execute_result"
        }
      ],
      "source": [
        "tool_call.tool_calls"
      ]
    },
    {
      "cell_type": "markdown",
      "metadata": {
        "id": "dK3aEExCKhR4"
      },
      "source": [
        "From here, we have the tool `name` that our LLM wants to use and the `args` that it\n",
        "wants to pass to that tool. We can see that the tool `add` is being used with the\n",
        "arguments `x=10` and `y=10`. The `agent.invoke` method has _not_ executed the tool\n",
        "function; we need to write that part of the agent code ourselves.\n",
        "\n",
        "Executing the tool code requires two steps:\n",
        "\n",
        "1. Map the tool `name` to the tool function.\n",
        "\n",
        "2. Execute the tool function with the generated `args`."
      ]
    },
    {
      "cell_type": "code",
      "execution_count": 15,
      "metadata": {
        "id": "IJ9MNrsmKhR4"
      },
      "outputs": [],
      "source": [
        "# create tool name to function mapping\n",
        "name2tool = {tool.name: tool.func for tool in tools}"
      ]
    },
    {
      "cell_type": "markdown",
      "metadata": {
        "id": "2olPmt13KhR4"
      },
      "source": [
        "Now execute to get our answer:"
      ]
    },
    {
      "cell_type": "code",
      "execution_count": 16,
      "metadata": {
        "colab": {
          "base_uri": "https://localhost:8080/"
        },
        "id": "clu5QfGzKhR4",
        "outputId": "ad3239af-234f-44f4-8c2e-4ebb9849f9d3"
      },
      "outputs": [
        {
          "data": {
            "text/plain": [
              "20"
            ]
          },
          "execution_count": 16,
          "metadata": {},
          "output_type": "execute_result"
        }
      ],
      "source": [
        "tool_exec_content = name2tool[tool_call.tool_calls[0][\"name\"]](\n",
        "    **tool_call.tool_calls[0][\"args\"]\n",
        ")\n",
        "tool_exec_content"
      ]
    },
    {
      "cell_type": "markdown",
      "metadata": {
        "id": "LKs1H38BKhR4"
      },
      "source": [
        "That is our answer and tool execution logic. We feed this back into our LLM via the\n",
        "`agent_scratchpad` placeholder."
      ]
    },
    {
      "cell_type": "code",
      "execution_count": 17,
      "metadata": {
        "colab": {
          "base_uri": "https://localhost:8080/"
        },
        "id": "taboyGD1KhR4",
        "outputId": "5891d9ba-65aa-4220-ada9-d00682b99beb"
      },
      "outputs": [
        {
          "data": {
            "text/plain": [
              "AIMessage(content='', additional_kwargs={'tool_calls': [{'id': 'call_mbzS6t3YlNoyPf6jihCVAhmc', 'function': {'arguments': '{\"x\":10,\"y\":10}', 'name': 'add'}, 'type': 'function'}], 'refusal': None}, response_metadata={'token_usage': {'completion_tokens': 18, 'prompt_tokens': 227, 'total_tokens': 245, 'completion_tokens_details': {'accepted_prediction_tokens': 0, 'audio_tokens': 0, 'reasoning_tokens': 0, 'rejected_prediction_tokens': 0}, 'prompt_tokens_details': {'audio_tokens': 0, 'cached_tokens': 0}}, 'model_name': 'gpt-4o-mini-2024-07-18', 'system_fingerprint': 'fp_bd83329f63', 'finish_reason': 'tool_calls', 'logprobs': None}, id='run-bf39d855-dd41-4cdc-8247-5671cd4fdd6b-0', tool_calls=[{'name': 'add', 'args': {'x': 10, 'y': 10}, 'id': 'call_mbzS6t3YlNoyPf6jihCVAhmc', 'type': 'tool_call'}], usage_metadata={'input_tokens': 227, 'output_tokens': 18, 'total_tokens': 245, 'input_token_details': {'audio': 0, 'cache_read': 0}, 'output_token_details': {'audio': 0, 'reasoning': 0}})"
            ]
          },
          "execution_count": 17,
          "metadata": {},
          "output_type": "execute_result"
        }
      ],
      "source": [
        "from langchain_core.messages import ToolMessage\n",
        "\n",
        "tool_exec = ToolMessage(\n",
        "    content=f\"The {tool_call.tool_calls[0]['name']} tool returned {tool_exec_content}\",\n",
        "    tool_call_id=tool_call.tool_calls[0][\"id\"]\n",
        ")\n",
        "\n",
        "out = agent.invoke({\n",
        "    \"input\": \"What is 10 + 10\",\n",
        "    \"chat_history\": [],\n",
        "    \"agent_scratchpad\": [tool_call, tool_exec]\n",
        "})\n",
        "out"
      ]
    },
    {
      "cell_type": "markdown",
      "metadata": {
        "id": "m5Skkn6MKhR4"
      },
      "source": [
        "Despite having the answer in our `agent_scratchpad`, the LLM still tries to use the tool\n",
        "_again_. This behaviour happens because we bonded the tools to the LLM with\n",
        "`tool_choice=\"any\"`. When we set `tool_choice` to `\"any\"` or `\"required\"`, we tell the\n",
        "LLM that it _MUST_ use a tool, i.e., it cannot provide a final answer.\n",
        "\n",
        "There's two options to fix this:\n",
        "\n",
        "1. Set `tool_choice=\"auto\"` to tell the LLM that it can choose to use a tool or provide\n",
        "a final answer.\n",
        "\n",
        "2. Create a `final_answer` tool - we'll explain this shortly.\n",
        "\n",
        "First, let's try option **1**:"
      ]
    },
    {
      "cell_type": "code",
      "execution_count": 18,
      "metadata": {
        "id": "RzxJcsTiKhR5"
      },
      "outputs": [],
      "source": [
        "agent: RunnableSerializable = (\n",
        "    {\n",
        "        \"input\": lambda x: x[\"input\"],\n",
        "        \"chat_history\": lambda x: x[\"chat_history\"],\n",
        "        \"agent_scratchpad\": lambda x: x.get(\"agent_scratchpad\", [])\n",
        "    }\n",
        "    | prompt\n",
        "    | llm.bind_tools(tools, tool_choice=\"auto\")\n",
        ")"
      ]
    },
    {
      "cell_type": "markdown",
      "metadata": {
        "id": "ShUXAXN2KhR5"
      },
      "source": [
        "We'll start from the start again, so `agent_scratchpad` is empty:"
      ]
    },
    {
      "cell_type": "code",
      "execution_count": 19,
      "metadata": {
        "colab": {
          "base_uri": "https://localhost:8080/"
        },
        "id": "lEa-xx4oKhR5",
        "outputId": "3bfd6dce-1695-4865-e75d-851ae174efa9"
      },
      "outputs": [
        {
          "data": {
            "text/plain": [
              "AIMessage(content='', additional_kwargs={'tool_calls': [{'id': 'call_rAxLjAfu7VJX5zDab6vr2Kti', 'function': {'arguments': '{\"x\":10,\"y\":10}', 'name': 'add'}, 'type': 'function'}], 'refusal': None}, response_metadata={'token_usage': {'completion_tokens': 18, 'prompt_tokens': 197, 'total_tokens': 215, 'completion_tokens_details': {'accepted_prediction_tokens': 0, 'audio_tokens': 0, 'reasoning_tokens': 0, 'rejected_prediction_tokens': 0}, 'prompt_tokens_details': {'audio_tokens': 0, 'cached_tokens': 0}}, 'model_name': 'gpt-4o-mini-2024-07-18', 'system_fingerprint': 'fp_bd83329f63', 'finish_reason': 'tool_calls', 'logprobs': None}, id='run-1a9b64f3-94ae-44b2-b209-4a5b6efc898c-0', tool_calls=[{'name': 'add', 'args': {'x': 10, 'y': 10}, 'id': 'call_rAxLjAfu7VJX5zDab6vr2Kti', 'type': 'tool_call'}], usage_metadata={'input_tokens': 197, 'output_tokens': 18, 'total_tokens': 215, 'input_token_details': {'audio': 0, 'cache_read': 0}, 'output_token_details': {'audio': 0, 'reasoning': 0}})"
            ]
          },
          "execution_count": 19,
          "metadata": {},
          "output_type": "execute_result"
        }
      ],
      "source": [
        "tool_call = agent.invoke({\"input\": \"What is 10 + 10\", \"chat_history\": []})\n",
        "tool_call"
      ]
    },
    {
      "cell_type": "markdown",
      "metadata": {
        "id": "yKg7tre5KhR5"
      },
      "source": [
        "Now we execute the tool and pass it's output into the `agent_scratchpad` placeholder:"
      ]
    },
    {
      "cell_type": "code",
      "execution_count": 20,
      "metadata": {
        "colab": {
          "base_uri": "https://localhost:8080/"
        },
        "id": "Sby4NpDqKhR5",
        "outputId": "1d4c8132-9c70-41f1-88a9-59113d4bc68f"
      },
      "outputs": [
        {
          "data": {
            "text/plain": [
              "AIMessage(content='10 + 10 equals 20.', additional_kwargs={'refusal': None}, response_metadata={'token_usage': {'completion_tokens': 10, 'prompt_tokens': 227, 'total_tokens': 237, 'completion_tokens_details': {'accepted_prediction_tokens': 0, 'audio_tokens': 0, 'reasoning_tokens': 0, 'rejected_prediction_tokens': 0}, 'prompt_tokens_details': {'audio_tokens': 0, 'cached_tokens': 0}}, 'model_name': 'gpt-4o-mini-2024-07-18', 'system_fingerprint': 'fp_bd83329f63', 'finish_reason': 'stop', 'logprobs': None}, id='run-c18c228f-3543-4b2f-9b6e-b1ed34bebbd6-0', usage_metadata={'input_tokens': 227, 'output_tokens': 10, 'total_tokens': 237, 'input_token_details': {'audio': 0, 'cache_read': 0}, 'output_token_details': {'audio': 0, 'reasoning': 0}})"
            ]
          },
          "execution_count": 20,
          "metadata": {},
          "output_type": "execute_result"
        }
      ],
      "source": [
        "tool_output = name2tool[tool_call.tool_calls[0][\"name\"]](\n",
        "    **tool_call.tool_calls[0][\"args\"]\n",
        ")\n",
        "\n",
        "tool_exec = ToolMessage(\n",
        "    content=f\"The {tool_call.tool_calls[0]['name']} tool returned {tool_output}\",\n",
        "    tool_call_id=tool_call.tool_calls[0][\"id\"]\n",
        ")\n",
        "\n",
        "out = agent.invoke({\n",
        "    \"input\": \"What is 10 + 10\",\n",
        "    \"chat_history\": [],\n",
        "    \"agent_scratchpad\": [tool_call, tool_exec]\n",
        "})\n",
        "out"
      ]
    },
    {
      "cell_type": "markdown",
      "metadata": {
        "id": "UBfI6-lTKhR5"
      },
      "source": [
        "We now have the final answer in the `content` field! This method is perfectly\n",
        "functional; however, we recommend option **2** as it provides more control over the\n",
        "agent's output.\n",
        "\n",
        "There are several reasons that option **2** can provide more control, those are:\n",
        "\n",
        "* It removes the possibility of an agent using the direct `content` field when it is not\n",
        "appropriate; for example, some LLMs (particularly smaller ones) may try to use the\n",
        "`content` field when using a tool.\n",
        "\n",
        "* We can enforce a specific structured output in our answers. Structured outputs are\n",
        "handy when we require particular fields for downstream code or multi-part answers. For\n",
        "example, a RAG agent may return a natural language answer and a list of sources used to\n",
        "generate that answer.\n",
        "\n",
        "To implement option **2**, we must create a `final_answer` tool. We will add a\n",
        "`tools_used` field to give our output some structure—in a real-world use case, we\n",
        "probably wouldn't want to generate this field, but it's useful for our example here."
      ]
    },
    {
      "cell_type": "code",
      "execution_count": 21,
      "metadata": {
        "id": "4oE3gE3HKhR5"
      },
      "outputs": [],
      "source": [
        "@tool\n",
        "def final_answer(answer: str, tools_used: list[str]) -> str:\n",
        "    \"\"\"Use this tool to provide a final answer to the user.\n",
        "    The answer should be in natural language as this will be provided\n",
        "    to the user directly. The tools_used must include a list of tool\n",
        "    names that were used within the `scratchpad`.\n",
        "    \"\"\"\n",
        "    return {\"answer\": answer, \"tools_used\": tools_used}"
      ]
    },
    {
      "cell_type": "markdown",
      "metadata": {
        "id": "AasMBkNjKhR5"
      },
      "source": [
        "Our `final_answer` tool _doesn't_ necessarily need to do anything; in this example,\n",
        "we're using it purely to structure our final response. We can now add this tool to our\n",
        "agent:"
      ]
    },
    {
      "cell_type": "code",
      "execution_count": 22,
      "metadata": {
        "id": "IiFdJBeyKhR5"
      },
      "outputs": [],
      "source": [
        "tools = [final_answer, add, subtract, multiply, exponentiate]\n",
        "\n",
        "# we need to update our name2tool mapping too\n",
        "name2tool = {tool.name: tool.func for tool in tools}\n",
        "\n",
        "agent: RunnableSerializable = (\n",
        "    {\n",
        "        \"input\": lambda x: x[\"input\"],\n",
        "        \"chat_history\": lambda x: x[\"chat_history\"],\n",
        "        \"agent_scratchpad\": lambda x: x.get(\"agent_scratchpad\", [])\n",
        "    }\n",
        "    | prompt\n",
        "    | llm.bind_tools(tools, tool_choice=\"any\")  # we're forcing tool use again\n",
        ")"
      ]
    },
    {
      "cell_type": "markdown",
      "metadata": {
        "id": "EEp3rk5XKhR5"
      },
      "source": [
        "Now we invoke:"
      ]
    },
    {
      "cell_type": "code",
      "execution_count": 23,
      "metadata": {
        "colab": {
          "base_uri": "https://localhost:8080/"
        },
        "id": "6W0zZLKdKhR5",
        "outputId": "62ee2a25-0185-491b-bf4b-8913e8f156b6"
      },
      "outputs": [
        {
          "data": {
            "text/plain": [
              "[{'name': 'add',\n",
              "  'args': {'x': 10, 'y': 10},\n",
              "  'id': 'call_gYc9NADUc97rn13XMiNXrF12',\n",
              "  'type': 'tool_call'}]"
            ]
          },
          "execution_count": 23,
          "metadata": {},
          "output_type": "execute_result"
        }
      ],
      "source": [
        "tool_call = agent.invoke({\"input\": \"What is 10 + 10\", \"chat_history\": []})\n",
        "tool_call.tool_calls"
      ]
    },
    {
      "cell_type": "markdown",
      "metadata": {
        "id": "OPAhRRExKhR5"
      },
      "source": [
        "We execute the tool and provide it's output to the agent again:"
      ]
    },
    {
      "cell_type": "code",
      "execution_count": 24,
      "metadata": {
        "colab": {
          "base_uri": "https://localhost:8080/"
        },
        "id": "ATQh7UevKhR5",
        "outputId": "14d6a89d-fa48-43c7-955f-a1b5695d8184"
      },
      "outputs": [
        {
          "data": {
            "text/plain": [
              "AIMessage(content='', additional_kwargs={'tool_calls': [{'id': 'call_LVqTyA6lpOpAhNIlq10TKqjg', 'function': {'arguments': '{\"answer\":\"10 + 10 equals 20.\",\"tools_used\":[\"functions.add\"]}', 'name': 'final_answer'}, 'type': 'function'}], 'refusal': None}, response_metadata={'token_usage': {'completion_tokens': 28, 'prompt_tokens': 299, 'total_tokens': 327, 'completion_tokens_details': {'accepted_prediction_tokens': 0, 'audio_tokens': 0, 'reasoning_tokens': 0, 'rejected_prediction_tokens': 0}, 'prompt_tokens_details': {'audio_tokens': 0, 'cached_tokens': 0}}, 'model_name': 'gpt-4o-mini-2024-07-18', 'system_fingerprint': 'fp_bd83329f63', 'finish_reason': 'tool_calls', 'logprobs': None}, id='run-5f37367d-83b6-46bb-87f4-4dd773b98caa-0', tool_calls=[{'name': 'final_answer', 'args': {'answer': '10 + 10 equals 20.', 'tools_used': ['functions.add']}, 'id': 'call_LVqTyA6lpOpAhNIlq10TKqjg', 'type': 'tool_call'}], usage_metadata={'input_tokens': 299, 'output_tokens': 28, 'total_tokens': 327, 'input_token_details': {'audio': 0, 'cache_read': 0}, 'output_token_details': {'audio': 0, 'reasoning': 0}})"
            ]
          },
          "execution_count": 24,
          "metadata": {},
          "output_type": "execute_result"
        }
      ],
      "source": [
        "tool_out = name2tool[tool_call.tool_calls[0][\"name\"]](\n",
        "    **tool_call.tool_calls[0][\"args\"]\n",
        ")\n",
        "\n",
        "tool_exec = ToolMessage(\n",
        "    content=f\"The {tool_call.tool_calls[0]['name']} tool returned {tool_out}\",\n",
        "    tool_call_id=tool_call.tool_calls[0][\"id\"]\n",
        ")\n",
        "\n",
        "out = agent.invoke({\n",
        "    \"input\": \"What is 10 + 10\",\n",
        "    \"chat_history\": [],\n",
        "    \"agent_scratchpad\": [tool_call, tool_exec]\n",
        "})\n",
        "out"
      ]
    },
    {
      "cell_type": "markdown",
      "metadata": {
        "id": "LQSd_50BKhR6"
      },
      "source": [
        "We see that `content` remains empty because we force tool use. But we now have the\n",
        "`final_answer` tool, which the agent executor passes via the `tool_calls` field:"
      ]
    },
    {
      "cell_type": "code",
      "execution_count": 25,
      "metadata": {
        "colab": {
          "base_uri": "https://localhost:8080/"
        },
        "id": "UwufhIudKhR6",
        "outputId": "b1e917c8-bdac-43d9-f89a-56817ab56de5"
      },
      "outputs": [
        {
          "data": {
            "text/plain": [
              "[{'name': 'final_answer',\n",
              "  'args': {'answer': '10 + 10 equals 20.', 'tools_used': ['functions.add']},\n",
              "  'id': 'call_LVqTyA6lpOpAhNIlq10TKqjg',\n",
              "  'type': 'tool_call'}]"
            ]
          },
          "execution_count": 25,
          "metadata": {},
          "output_type": "execute_result"
        }
      ],
      "source": [
        "out.tool_calls"
      ]
    },
    {
      "cell_type": "markdown",
      "metadata": {
        "id": "tB02HOTZKhR6"
      },
      "source": [
        "Because we see the `final_answer` tool here, we don't pass this back into our agent, and\n",
        "instead, this tells us to stop execution and pass the `args` output onto our downstream\n",
        "process or user directly:"
      ]
    },
    {
      "cell_type": "code",
      "execution_count": 26,
      "metadata": {
        "colab": {
          "base_uri": "https://localhost:8080/"
        },
        "id": "cQYeqO7fKhR6",
        "outputId": "4c6344da-8b37-4285-cb39-dab7b2b79ef3"
      },
      "outputs": [
        {
          "data": {
            "text/plain": [
              "{'answer': '10 + 10 equals 20.', 'tools_used': ['functions.add']}"
            ]
          },
          "execution_count": 26,
          "metadata": {},
          "output_type": "execute_result"
        }
      ],
      "source": [
        "out.tool_calls[0][\"args\"]"
      ]
    },
    {
      "cell_type": "markdown",
      "metadata": {
        "id": "qG4WMRU0KhR6"
      },
      "source": [
        "### Building a Custom Agent Execution Loop"
      ]
    },
    {
      "cell_type": "markdown",
      "metadata": {
        "id": "KPMQv0zkKhR6"
      },
      "source": [
        "We've worked through each step of our agent code, but it doesn't run without us running\n",
        "every step. We must write a class to handle all the logic we just worked through."
      ]
    },
    {
      "cell_type": "code",
      "execution_count": 27,
      "metadata": {
        "id": "cUNR2aDaKhR6"
      },
      "outputs": [],
      "source": [
        "from langchain_core.messages import BaseMessage, HumanMessage, AIMessage\n",
        "\n",
        "\n",
        "class CustomAgentExecutor:\n",
        "    chat_history: list[BaseMessage]\n",
        "\n",
        "    def __init__(self, max_iterations: int = 3):\n",
        "        self.chat_history = []\n",
        "        self.max_iterations = max_iterations\n",
        "        self.agent: RunnableSerializable = (\n",
        "            {\n",
        "                \"input\": lambda x: x[\"input\"],\n",
        "                \"chat_history\": lambda x: x[\"chat_history\"],\n",
        "                \"agent_scratchpad\": lambda x: x.get(\"agent_scratchpad\", [])\n",
        "            }\n",
        "            | prompt\n",
        "            | llm.bind_tools(tools, tool_choice=\"any\")  # we're forcing tool use again\n",
        "        )\n",
        "\n",
        "    def invoke(self, input: str) -> dict:\n",
        "        # invoke the agent but we do this iteratively in a loop until\n",
        "        # reaching a final answer\n",
        "        count = 0\n",
        "        agent_scratchpad = []\n",
        "        while count < self.max_iterations:\n",
        "            # invoke a step for the agent to generate a tool call\n",
        "            tool_call = self.agent.invoke({\n",
        "                \"input\": input,\n",
        "                \"chat_history\": self.chat_history,\n",
        "                \"agent_scratchpad\": agent_scratchpad\n",
        "            })\n",
        "            # add initial tool call to scratchpad\n",
        "            agent_scratchpad.append(tool_call)\n",
        "            # otherwise we execute the tool and add it's output to the agent scratchpad\n",
        "            tool_name = tool_call.tool_calls[0][\"name\"]\n",
        "            tool_args = tool_call.tool_calls[0][\"args\"]\n",
        "            tool_call_id = tool_call.tool_calls[0][\"id\"]\n",
        "            tool_out = name2tool[tool_name](**tool_args)\n",
        "            # add the tool output to the agent scratchpad\n",
        "            tool_exec = ToolMessage(\n",
        "                content=f\"{tool_out}\",\n",
        "                tool_call_id=tool_call_id\n",
        "            )\n",
        "            agent_scratchpad.append(tool_exec)\n",
        "            # add a print so we can see intermediate steps\n",
        "            print(f\"{count}: {tool_name}({tool_args})\")\n",
        "            count += 1\n",
        "            # if the tool call is the final answer tool, we stop\n",
        "            if tool_name == \"final_answer\":\n",
        "                break\n",
        "        # add the final output to the chat history\n",
        "        final_answer = tool_out[\"answer\"]\n",
        "        self.chat_history.extend([\n",
        "            HumanMessage(content=input),\n",
        "            AIMessage(content=final_answer)\n",
        "        ])\n",
        "        # return the final answer in dict form\n",
        "        return json.dumps(tool_out)"
      ]
    },
    {
      "cell_type": "markdown",
      "metadata": {
        "id": "GyaL_PRtKhR6"
      },
      "source": [
        "Now initialize the agent executor:"
      ]
    },
    {
      "cell_type": "code",
      "execution_count": 28,
      "metadata": {
        "id": "fopGp7hvKhR6"
      },
      "outputs": [],
      "source": [
        "agent_executor = CustomAgentExecutor()"
      ]
    },
    {
      "cell_type": "markdown",
      "metadata": {
        "id": "Qi8oX3lkKhR6"
      },
      "source": [
        "And test the `invoke` method:"
      ]
    },
    {
      "cell_type": "code",
      "execution_count": 29,
      "metadata": {
        "colab": {
          "base_uri": "https://localhost:8080/",
          "height": 89
        },
        "id": "E3iWRWyFKhR6",
        "outputId": "fa85cdaa-243d-476d-dc25-42d0feb99dd9"
      },
      "outputs": [
        {
          "name": "stdout",
          "output_type": "stream",
          "text": [
            "0: add({'x': 10, 'y': 10})\n",
            "1: final_answer({'answer': '10 + 10 equals 20.', 'tools_used': ['functions.add']})\n"
          ]
        },
        {
          "data": {
            "application/vnd.google.colaboratory.intrinsic+json": {
              "type": "string"
            },
            "text/plain": [
              "'{\"answer\": \"10 + 10 equals 20.\", \"tools_used\": [\"functions.add\"]}'"
            ]
          },
          "execution_count": 29,
          "metadata": {},
          "output_type": "execute_result"
        }
      ],
      "source": [
        "agent_executor.invoke(input=\"What is 10 + 10\")"
      ]
    },
    {
      "cell_type": "markdown",
      "metadata": {
        "id": "P1nIQpA2KhR6"
      },
      "source": [
        "We then get our answer and the tools that were used — all through our custom agent\n",
        "executor."
      ]
    }
  ],
  "metadata": {
    "colab": {
      "provenance": []
    },
    "kernelspec": {
      "display_name": ".venv",
      "language": "python",
      "name": "python3"
    },
    "language_info": {
      "codemirror_mode": {
        "name": "ipython",
        "version": 3
      },
      "file_extension": ".py",
      "mimetype": "text/x-python",
      "name": "python",
      "nbconvert_exporter": "python",
      "pygments_lexer": "ipython3",
      "version": "3.12.7"
    }
  },
  "nbformat": 4,
  "nbformat_minor": 0
}
